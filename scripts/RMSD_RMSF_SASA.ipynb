{
 "cells": [
  {
   "cell_type": "code",
   "execution_count": null,
   "id": "9976a307-25dc-4f36-9216-f48cb64b8cfc",
   "metadata": {},
   "outputs": [],
   "source": [
    "import pandas as pd\n",
    "import matplotlib.pyplot as plt\n",
    "\n",
    "# Plot configuration\n",
    "plt.figure(figsize=(12, 8))\n",
    "colors = {'Pocket 1': 'red', 'Pocket 3': 'green'}\n",
    "\n",
    "# Pockets to plot\n",
    "pockets_to_plot = [1, 3]\n",
    "\n",
    "for i in pockets_to_plot:\n",
    "    file_path = f\"Pocket{i}.csv\"\n",
    "    try:\n",
    "        df = pd.read_csv(file_path, skip_blank_lines=True)\n",
    "        df.columns = df.columns.str.strip()  # Clean column names\n",
    "        df['time'] = pd.to_numeric(df['time'], errors='coerce')\n",
    "        df['rmsd'] = pd.to_numeric(df['rmsd'], errors='coerce')\n",
    "        df = df.dropna()\n",
    "\n",
    "        plt.plot(df['time'], df['rmsd'], label=f\"Pocket {i}\", color=colors[f'Pocket {i}'], linewidth=3)\n",
    "\n",
    "    except Exception as e:\n",
    "        print(f\"Error processing Pocket{i}_rmsd.csv: {e}\")\n",
    "\n",
    "# Axis formatting\n",
    "plt.xlabel('Time (ns)', fontsize=16, fontweight='bold')\n",
    "plt.ylabel('RMSD (nm)', fontsize=16, fontweight='bold')\n",
    "plt.xticks(fontsize=14, fontweight='bold')  # X-axis tick labels\n",
    "plt.yticks(fontsize=14, fontweight='bold')  # Y-axis tick labels\n",
    "plt.grid(True)\n",
    "plt.xlim(left=0)\n",
    "plt.ylim(bottom=0)\n",
    "plt.legend(fontsize=14)\n",
    "plt.tight_layout()\n",
    "\n",
    "# Save and show the plot\n",
    "plt.savefig(\"RMSD_Plot.png\", dpi=300)\n",
    "plt.show()"
   ]
  }
 ],
 "metadata": {
  "kernelspec": {
   "display_name": "Python 3 (ipykernel)",
   "language": "python",
   "name": "python3"
  },
  "language_info": {
   "codemirror_mode": {
    "name": "ipython",
    "version": 3
   },
   "file_extension": ".py",
   "mimetype": "text/x-python",
   "name": "python",
   "nbconvert_exporter": "python",
   "pygments_lexer": "ipython3",
   "version": "3.12.2"
  }
 },
 "nbformat": 4,
 "nbformat_minor": 5
}
